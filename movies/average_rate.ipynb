{
 "cells": [
  {
   "cell_type": "code",
   "execution_count": 1,
   "metadata": {
    "collapsed": true
   },
   "outputs": [],
   "source": [
    "import json"
   ]
  },
  {
   "cell_type": "code",
   "execution_count": 2,
   "metadata": {
    "collapsed": true
   },
   "outputs": [],
   "source": [
    "import pandas as pd"
   ]
  },
  {
   "cell_type": "code",
   "execution_count": 4,
   "metadata": {
    "collapsed": true
   },
   "outputs": [],
   "source": [
    "movies=\"C:\\data-sc\\movies\\movies.json\""
   ]
  },
  {
   "cell_type": "code",
   "execution_count": 5,
   "metadata": {
    "collapsed": true
   },
   "outputs": [],
   "source": [
    "movies_data = pd.read_json(movies)"
   ]
  },
  {
   "cell_type": "code",
   "execution_count": 6,
   "metadata": {},
   "outputs": [
    {
     "data": {
      "text/html": [
       "<div>\n",
       "<style>\n",
       "    .dataframe thead tr:only-child th {\n",
       "        text-align: right;\n",
       "    }\n",
       "\n",
       "    .dataframe thead th {\n",
       "        text-align: left;\n",
       "    }\n",
       "\n",
       "    .dataframe tbody tr th {\n",
       "        vertical-align: top;\n",
       "    }\n",
       "</style>\n",
       "<table border=\"1\" class=\"dataframe\">\n",
       "  <thead>\n",
       "    <tr style=\"text-align: right;\">\n",
       "      <th></th>\n",
       "      <th>movie rank</th>\n",
       "      <th>rating</th>\n",
       "      <th>release year</th>\n",
       "      <th>title</th>\n",
       "      <th>url</th>\n",
       "    </tr>\n",
       "  </thead>\n",
       "  <tbody>\n",
       "    <tr>\n",
       "      <th>0</th>\n",
       "      <td>1</td>\n",
       "      <td>9.2</td>\n",
       "      <td>(1994)</td>\n",
       "      <td>The Shawshank Redemption</td>\n",
       "      <td>http://imdb.com/title/tt0111161/?pf_rd_m=A2FGE...</td>\n",
       "    </tr>\n",
       "    <tr>\n",
       "      <th>1</th>\n",
       "      <td>2</td>\n",
       "      <td>9.2</td>\n",
       "      <td>(1972)</td>\n",
       "      <td>The Godfather</td>\n",
       "      <td>http://imdb.com/title/tt0068646/?pf_rd_m=A2FGE...</td>\n",
       "    </tr>\n",
       "    <tr>\n",
       "      <th>2</th>\n",
       "      <td>3</td>\n",
       "      <td>9.0</td>\n",
       "      <td>(1974)</td>\n",
       "      <td>The Godfather: Part II</td>\n",
       "      <td>http://imdb.com/title/tt0071562/?pf_rd_m=A2FGE...</td>\n",
       "    </tr>\n",
       "    <tr>\n",
       "      <th>3</th>\n",
       "      <td>4</td>\n",
       "      <td>9.0</td>\n",
       "      <td>(2008)</td>\n",
       "      <td>The Dark Knight</td>\n",
       "      <td>http://imdb.com/title/tt0468569/?pf_rd_m=A2FGE...</td>\n",
       "    </tr>\n",
       "    <tr>\n",
       "      <th>4</th>\n",
       "      <td>5</td>\n",
       "      <td>8.9</td>\n",
       "      <td>(1957)</td>\n",
       "      <td>12 Angry Men</td>\n",
       "      <td>http://imdb.com/title/tt0050083/?pf_rd_m=A2FGE...</td>\n",
       "    </tr>\n",
       "  </tbody>\n",
       "</table>\n",
       "</div>"
      ],
      "text/plain": [
       "   movie rank  rating release year                     title  \\\n",
       "0           1     9.2       (1994)  The Shawshank Redemption   \n",
       "1           2     9.2       (1972)             The Godfather   \n",
       "2           3     9.0       (1974)    The Godfather: Part II   \n",
       "3           4     9.0       (2008)           The Dark Knight   \n",
       "4           5     8.9       (1957)              12 Angry Men   \n",
       "\n",
       "                                                 url  \n",
       "0  http://imdb.com/title/tt0111161/?pf_rd_m=A2FGE...  \n",
       "1  http://imdb.com/title/tt0068646/?pf_rd_m=A2FGE...  \n",
       "2  http://imdb.com/title/tt0071562/?pf_rd_m=A2FGE...  \n",
       "3  http://imdb.com/title/tt0468569/?pf_rd_m=A2FGE...  \n",
       "4  http://imdb.com/title/tt0050083/?pf_rd_m=A2FGE...  "
      ]
     },
     "execution_count": 6,
     "metadata": {},
     "output_type": "execute_result"
    }
   ],
   "source": [
    "movies_data.head()"
   ]
  },
  {
   "cell_type": "code",
   "execution_count": 10,
   "metadata": {},
   "outputs": [
    {
     "name": "stdout",
     "output_type": "stream",
     "text": [
      "movie rank    125.500\n",
      "rating          8.262\n",
      "dtype: float64\n"
     ]
    }
   ],
   "source": [
    "print movies_data.mean(0)"
   ]
  }
 ],
 "metadata": {
  "kernelspec": {
   "display_name": "Python 2",
   "language": "python",
   "name": "python2"
  },
  "language_info": {
   "codemirror_mode": {
    "name": "ipython",
    "version": 2
   },
   "file_extension": ".py",
   "mimetype": "text/x-python",
   "name": "python",
   "nbconvert_exporter": "python",
   "pygments_lexer": "ipython2",
   "version": "2.7.13"
  }
 },
 "nbformat": 4,
 "nbformat_minor": 2
}
